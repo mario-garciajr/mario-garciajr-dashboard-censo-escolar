{
  "cells": [
    {
      "cell_type": "markdown",
      "metadata": {
        "id": "view-in-github",
        "colab_type": "text"
      },
      "source": [
        "<a href=\"https://colab.research.google.com/github/mario-garciajr/mario-garciajr-dashboard-censo-escolar/blob/main/censo_escolar_basico.ipynb\" target=\"_parent\"><img src=\"https://colab.research.google.com/assets/colab-badge.svg\" alt=\"Open In Colab\"/></a>"
      ]
    },
    {
      "cell_type": "code",
      "execution_count": null,
      "metadata": {
        "id": "6xoPDzVCCBHj"
      },
      "outputs": [],
      "source": [
        "!pip install streamlit pandas plotly pyngrok -q"
      ]
    },
    {
      "cell_type": "code",
      "execution_count": null,
      "metadata": {
        "colab": {
          "background_save": true
        },
        "id": "KZjDPow2Gbvm"
      },
      "outputs": [],
      "source": [
        "%%writefile app.py\n",
        "import streamlit as st\n",
        "import pandas as pd\n",
        "import plotly.express as px\n",
        "\n",
        "st.set_page_config(page_title=\"Censo Escolar\", layout=\"wide\")\n",
        "\n",
        "st.title(\"📊 Dashboard do Censo Escolar\")\n",
        "\n",
        "# Dados de exemplo (pode ser substituído por leitura de CSV)\n",
        "dados = {\n",
        "    'Município': ['Brasília', 'Formosa', 'Planaltina', 'Valparaíso'],\n",
        "    'Dependência': ['Federal', 'Estadual', 'Municipal', 'Privada'],\n",
        "    'Qtd_Escolas': [10, 50, 80, 20]\n",
        "}\n",
        "\n",
        "df = pd.DataFrame(dados)\n",
        "\n",
        "# Gráfico\n",
        "fig = px.bar(df, x='Município', y='Qtd_Escolas', color='Dependência', barmode='group')\n",
        "st.plotly_chart(fig)\n",
        "\n",
        "# Mostrar os dados\n",
        "st.dataframe(df)\n"
      ]
    },
    {
      "cell_type": "code",
      "execution_count": null,
      "metadata": {
        "colab": {
          "base_uri": "https://localhost:8080/"
        },
        "id": "5xOXczurEanl",
        "outputId": "76f42879-4c3e-4db7-b734-a63cfb3ef457"
      },
      "outputs": [
        {
          "name": "stdout",
          "output_type": "stream",
          "text": []
        }
      ],
      "source": [
        "from pyngrok import ngrok\n",
        "\n",
        "# Substitua 'YOUR_AUTHTOKEN_HERE' pelo seu token real do ngrok\n",
        "ngrok.set_auth_token(\"2yv7d2OnmWYWWqoQxVTiA7sQKFz_7vogS6k8AT6Dxo4LTPFxs\")"
      ]
    },
    {
      "cell_type": "code",
      "execution_count": null,
      "metadata": {
        "colab": {
          "base_uri": "https://localhost:8080/"
        },
        "id": "MjXijbvPEvsr",
        "outputId": "f3b4fabe-347c-473e-cf70-f4079393f177"
      },
      "outputs": [
        {
          "name": "stdout",
          "output_type": "stream",
          "text": [
            "🎉 Sua aplicação Streamlit está disponível em: https://ed3a-34-42-80-95.ngrok-free.app\n"
          ]
        }
      ],
      "source": [
        "from pyngrok import ngrok\n",
        "import subprocess\n",
        "import threading\n",
        "import time\n",
        "\n",
        "# Comando para iniciar o Streamlit em segundo plano\n",
        "# A porta padrão do Streamlit é 8501\n",
        "# --server.enableCORS false é importante para evitar problemas de CORS no Colab\n",
        "streamlit_command = [\"streamlit\", \"run\", \"censo_escolar_app.py\", \"--server.port\", \"8501\", \"--server.enableCORS\", \"false\"]\n",
        "\n",
        "# Função para executar o comando Streamlit em uma thread separada\n",
        "# Isso evita que o Colab fique bloqueado esperando o Streamlit iniciar\n",
        "def run_streamlit():\n",
        "    # Usamos subprocess.run para executar o comando Streamlit\n",
        "    # capture_output=True e text=True podem ser úteis para depuração, mas não são estritamente necessários para o funcionamento\n",
        "    subprocess.run(streamlit_command)\n",
        "\n",
        "# Iniciar o Streamlit em uma nova thread\n",
        "streamlit_thread = threading.Thread(target=run_streamlit)\n",
        "streamlit_thread.start()\n",
        "\n",
        "# Dar um pequeno tempo para o Streamlit iniciar (pode ajustar se necessário)\n",
        "time.sleep(5)\n",
        "\n",
        "# Abrir um túnel ngrok para a porta onde o Streamlit está rodando (8501)\n",
        "# ngrok.connect retorna um objeto NgrokTunnel, e .public_url nos dá a URL acessível\n",
        "public_url = ngrok.connect(8501).public_url\n",
        "print(f\"🎉 Sua aplicação Streamlit está disponível em: {public_url}\")\n",
        "\n",
        "# Manter a célula em execução\n",
        "# Isso é crucial para que o túnel ngrok e o aplicativo Streamlit permaneçam ativos.\n",
        "# Se esta célula parar de executar, o túnel e o aplicativo serão encerrados.\n",
        "# Um loop infinito com um pequeno atraso garante que a célula continue rodando.\n",
        "while True:\n",
        "    time.sleep(60) # Pausa por 60 segundos para não consumir CPU em excesso"
      ]
    }
  ],
  "metadata": {
    "colab": {
      "provenance": [],
      "authorship_tag": "ABX9TyO2tbw6Dop+tLgY/qto07OR",
      "include_colab_link": true
    },
    "kernelspec": {
      "display_name": "Python 3",
      "name": "python3"
    },
    "language_info": {
      "name": "python"
    }
  },
  "nbformat": 4,
  "nbformat_minor": 0
}